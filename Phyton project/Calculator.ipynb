{
  "nbformat": 4,
  "nbformat_minor": 0,
  "metadata": {
    "colab": {
      "provenance": []
    },
    "kernelspec": {
      "name": "python3",
      "display_name": "Python 3"
    },
    "language_info": {
      "name": "python"
    }
  },
  "cells": [
    {
      "cell_type": "code",
      "execution_count": 7,
      "metadata": {
        "colab": {
          "base_uri": "https://localhost:8080/"
        },
        "id": "QEi-5jH8BlGZ",
        "outputId": "cd388993-ef4a-410b-9d6a-37478a4b1f0c"
      },
      "outputs": [
        {
          "output_type": "stream",
          "name": "stdout",
          "text": [
            "Enter an operator (+ - * or /)/\n",
            "Enter number2\n",
            "Enter number3\n",
            "0.6666666666666666\n"
          ]
        }
      ],
      "source": [
        "#Simple calculator program using condintions\n",
        "\n",
        "operator = input(\"Enter an operator (+ - * or /)\")\n",
        "nr1 = float(input(\"Enter number\"))\n",
        "nr2= float (input (\"Enter number\"))\n",
        "\n",
        "if operator == \"+\":\n",
        "  result = nr1 + nr2\n",
        "  print (result)\n",
        "\n",
        "elif operator== \"-\":\n",
        "  result = nr1 - nr2\n",
        "  print (result)\n",
        "\n",
        "elif operator == \"*\":\n",
        "  result = nr1 * nr2\n",
        "\n",
        "elif operator == \"/\":\n",
        "  result = nr1 / nr2\n",
        "  print (result)"
      ]
    }
  ]
}
